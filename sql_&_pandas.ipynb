{
  "nbformat": 4,
  "nbformat_minor": 0,
  "metadata": {
    "colab": {
      "name": "sql & pandas",
      "provenance": [],
      "collapsed_sections": [],
      "authorship_tag": "ABX9TyMMSrovGRxvUYSgp3wwUg30",
      "include_colab_link": true
    },
    "kernelspec": {
      "name": "python3",
      "display_name": "Python 3"
    },
    "language_info": {
      "name": "python"
    }
  },
  "cells": [
    {
      "cell_type": "markdown",
      "metadata": {
        "id": "view-in-github",
        "colab_type": "text"
      },
      "source": [
        "<a href=\"https://colab.research.google.com/github/wangsongyuan98/python_sql_connection/blob/main/sql_%26_pandas.ipynb\" target=\"_parent\"><img src=\"https://colab.research.google.com/assets/colab-badge.svg\" alt=\"Open In Colab\"/></a>"
      ]
    },
    {
      "cell_type": "code",
      "metadata": {
        "id": "LGEnXjarhWyQ"
      },
      "source": [
        "!pip install sqlalchemy &> /dev/null"
      ],
      "execution_count": 81,
      "outputs": []
    },
    {
      "cell_type": "code",
      "metadata": {
        "id": "uL_uSbd2hb1b"
      },
      "source": [
        "import sqlite3\n",
        "import pandas as pd\n",
        "import sqlalchemy"
      ],
      "execution_count": 82,
      "outputs": []
    },
    {
      "cell_type": "markdown",
      "metadata": {
        "id": "W4uATReeh1ol"
      },
      "source": [
        "simple connection and creating database"
      ]
    },
    {
      "cell_type": "code",
      "metadata": {
        "id": "AGcWw8_yczwQ"
      },
      "source": [
        "connection = sqlite3.connect('ourdatabase.db') #connect to database"
      ],
      "execution_count": 83,
      "outputs": []
    },
    {
      "cell_type": "code",
      "metadata": {
        "id": "NQEWHv41c_HN"
      },
      "source": [
        "cursor = connection.cursor() #allow us to execute sql statement"
      ],
      "execution_count": 84,
      "outputs": []
    },
    {
      "cell_type": "code",
      "metadata": {
        "colab": {
          "base_uri": "https://localhost:8080/"
        },
        "id": "pBc67oyIdFG6",
        "outputId": "a93d9c52-5184-474f-db60-17ea7e81c5df"
      },
      "source": [
        "cursor.execute(\"CREATE TABLE employees (employee_id INTEGER,first_name text,last_name text NOT NULL,email text NOT NULL,phone_number text,hire_date text NOT NULL,job_id INTEGER NOT NULL,salary double NOT NULL,manager_id INTEGER);\")"
      ],
      "execution_count": 85,
      "outputs": [
        {
          "output_type": "execute_result",
          "data": {
            "text/plain": [
              "<sqlite3.Cursor at 0x7fa10c9685e0>"
            ]
          },
          "metadata": {},
          "execution_count": 85
        }
      ]
    },
    {
      "cell_type": "code",
      "metadata": {
        "id": "koV65i1Ye_PZ"
      },
      "source": [
        "connection.commit()"
      ],
      "execution_count": 86,
      "outputs": []
    },
    {
      "cell_type": "code",
      "metadata": {
        "colab": {
          "base_uri": "https://localhost:8080/"
        },
        "id": "R1-nXIt3fqq5",
        "outputId": "99abdc1b-49ea-4937-ad78-f9ef78b3bf33"
      },
      "source": [
        "cursor.execute(\"INSERT INTO employees(employee_id,first_name,last_name,email,phone_number,hire_date,job_id,salary,manager_id) VALUES (100,'Steven','King','steven.king@sqltutorial.org','515.123.4567','1987-06-17',4,24000.00,NULL);\")"
      ],
      "execution_count": 87,
      "outputs": [
        {
          "output_type": "execute_result",
          "data": {
            "text/plain": [
              "<sqlite3.Cursor at 0x7fa10c9685e0>"
            ]
          },
          "metadata": {},
          "execution_count": 87
        }
      ]
    },
    {
      "cell_type": "code",
      "metadata": {
        "id": "lPwgd6EDgbqy"
      },
      "source": [
        "cursor.execute(\"INSERT INTO employees(employee_id,first_name,last_name,email,phone_number,hire_date,job_id,salary,manager_id) VALUES (101,'Neena','Kochhar','neena.kochhar@sqltutorial.org','515.123.4568','1989-09-21',5,17000.00,100);\");\n"
      ],
      "execution_count": 88,
      "outputs": []
    },
    {
      "cell_type": "code",
      "metadata": {
        "colab": {
          "base_uri": "https://localhost:8080/"
        },
        "id": "kHX1D7PFf8H2",
        "outputId": "f06f5509-a146-4802-ade8-d6e836fcc6e5"
      },
      "source": [
        "cursor.execute('select * from employees')"
      ],
      "execution_count": 89,
      "outputs": [
        {
          "output_type": "execute_result",
          "data": {
            "text/plain": [
              "<sqlite3.Cursor at 0x7fa10c9685e0>"
            ]
          },
          "metadata": {},
          "execution_count": 89
        }
      ]
    },
    {
      "cell_type": "code",
      "metadata": {
        "colab": {
          "base_uri": "https://localhost:8080/"
        },
        "id": "eCQ-PMuTgBYf",
        "outputId": "179837a0-69d1-417e-c878-f7b236d3f424"
      },
      "source": [
        "cursor.fetchall() #fetchone()"
      ],
      "execution_count": 90,
      "outputs": [
        {
          "output_type": "execute_result",
          "data": {
            "text/plain": [
              "[(100,\n",
              "  'Steven',\n",
              "  'King',\n",
              "  'steven.king@sqltutorial.org',\n",
              "  '515.123.4567',\n",
              "  '1987-06-17',\n",
              "  4,\n",
              "  24000.0,\n",
              "  None),\n",
              " (101,\n",
              "  'Neena',\n",
              "  'Kochhar',\n",
              "  'neena.kochhar@sqltutorial.org',\n",
              "  '515.123.4568',\n",
              "  '1989-09-21',\n",
              "  5,\n",
              "  17000.0,\n",
              "  100)]"
            ]
          },
          "metadata": {},
          "execution_count": 90
        }
      ]
    },
    {
      "cell_type": "code",
      "metadata": {
        "colab": {
          "base_uri": "https://localhost:8080/"
        },
        "id": "CXSm5Tr0gpkj",
        "outputId": "e032b3d0-4c04-4b5c-d578-02c708216392"
      },
      "source": [
        "for i in cursor.execute(\"select * from employees\"):\n",
        "  print(i)"
      ],
      "execution_count": 91,
      "outputs": [
        {
          "output_type": "stream",
          "name": "stdout",
          "text": [
            "(100, 'Steven', 'King', 'steven.king@sqltutorial.org', '515.123.4567', '1987-06-17', 4, 24000.0, None)\n",
            "(101, 'Neena', 'Kochhar', 'neena.kochhar@sqltutorial.org', '515.123.4568', '1989-09-21', 5, 17000.0, 100)\n"
          ]
        }
      ]
    },
    {
      "cell_type": "code",
      "metadata": {
        "id": "p06rYrJVl1pK"
      },
      "source": [
        "connection.close()"
      ],
      "execution_count": 92,
      "outputs": []
    },
    {
      "cell_type": "markdown",
      "metadata": {
        "id": "fQusff1ch4en"
      },
      "source": [
        "write df into sql database/get sql table to df"
      ]
    },
    {
      "cell_type": "code",
      "metadata": {
        "id": "TETKgobuh-eC"
      },
      "source": [
        "engine = sqlalchemy.create_engine('sqlite:////content/ourdatabase.db')  #connection has more restriction than engine"
      ],
      "execution_count": 93,
      "outputs": []
    },
    {
      "cell_type": "code",
      "metadata": {
        "colab": {
          "base_uri": "https://localhost:8080/",
          "height": 49
        },
        "id": "6T8cZka3iWJd",
        "outputId": "1dd01265-ec3a-40dc-e221-1b5a1dd2e270"
      },
      "source": [
        "pd.read_sql('employees', engine)"
      ],
      "execution_count": 94,
      "outputs": [
        {
          "output_type": "execute_result",
          "data": {
            "text/html": [
              "<div>\n",
              "<style scoped>\n",
              "    .dataframe tbody tr th:only-of-type {\n",
              "        vertical-align: middle;\n",
              "    }\n",
              "\n",
              "    .dataframe tbody tr th {\n",
              "        vertical-align: top;\n",
              "    }\n",
              "\n",
              "    .dataframe thead th {\n",
              "        text-align: right;\n",
              "    }\n",
              "</style>\n",
              "<table border=\"1\" class=\"dataframe\">\n",
              "  <thead>\n",
              "    <tr style=\"text-align: right;\">\n",
              "      <th></th>\n",
              "      <th>employee_id</th>\n",
              "      <th>first_name</th>\n",
              "      <th>last_name</th>\n",
              "      <th>email</th>\n",
              "      <th>phone_number</th>\n",
              "      <th>hire_date</th>\n",
              "      <th>job_id</th>\n",
              "      <th>salary</th>\n",
              "      <th>manager_id</th>\n",
              "    </tr>\n",
              "  </thead>\n",
              "  <tbody>\n",
              "  </tbody>\n",
              "</table>\n",
              "</div>"
            ],
            "text/plain": [
              "Empty DataFrame\n",
              "Columns: [employee_id, first_name, last_name, email, phone_number, hire_date, job_id, salary, manager_id]\n",
              "Index: []"
            ]
          },
          "metadata": {},
          "execution_count": 94
        }
      ]
    },
    {
      "cell_type": "markdown",
      "metadata": {
        "id": "PdHPwML5j5tI"
      },
      "source": [
        "to sql"
      ]
    },
    {
      "cell_type": "code",
      "metadata": {
        "id": "iseVXYRAicNb"
      },
      "source": [
        "df1 = pd.DataFrame([{'employee_id':25,'first_name': 'sx','last_name':'xz','email':'nehar@sqltutorial.org','phone_number':121222,'hire_date':'1949-09-21','job_id':15,'salary':0,'manager_id':21}])"
      ],
      "execution_count": 95,
      "outputs": []
    },
    {
      "cell_type": "code",
      "metadata": {
        "colab": {
          "base_uri": "https://localhost:8080/",
          "height": 81
        },
        "id": "bxfDBzVvjwfo",
        "outputId": "d91375d7-a345-4567-fa56-fc55516bac04"
      },
      "source": [
        "df1"
      ],
      "execution_count": 96,
      "outputs": [
        {
          "output_type": "execute_result",
          "data": {
            "text/html": [
              "<div>\n",
              "<style scoped>\n",
              "    .dataframe tbody tr th:only-of-type {\n",
              "        vertical-align: middle;\n",
              "    }\n",
              "\n",
              "    .dataframe tbody tr th {\n",
              "        vertical-align: top;\n",
              "    }\n",
              "\n",
              "    .dataframe thead th {\n",
              "        text-align: right;\n",
              "    }\n",
              "</style>\n",
              "<table border=\"1\" class=\"dataframe\">\n",
              "  <thead>\n",
              "    <tr style=\"text-align: right;\">\n",
              "      <th></th>\n",
              "      <th>employee_id</th>\n",
              "      <th>first_name</th>\n",
              "      <th>last_name</th>\n",
              "      <th>email</th>\n",
              "      <th>phone_number</th>\n",
              "      <th>hire_date</th>\n",
              "      <th>job_id</th>\n",
              "      <th>salary</th>\n",
              "      <th>manager_id</th>\n",
              "    </tr>\n",
              "  </thead>\n",
              "  <tbody>\n",
              "    <tr>\n",
              "      <th>0</th>\n",
              "      <td>25</td>\n",
              "      <td>sx</td>\n",
              "      <td>xz</td>\n",
              "      <td>nehar@sqltutorial.org</td>\n",
              "      <td>121222</td>\n",
              "      <td>1949-09-21</td>\n",
              "      <td>15</td>\n",
              "      <td>0</td>\n",
              "      <td>21</td>\n",
              "    </tr>\n",
              "  </tbody>\n",
              "</table>\n",
              "</div>"
            ],
            "text/plain": [
              "   employee_id first_name last_name  ... job_id  salary manager_id\n",
              "0           25         sx        xz  ...     15       0         21\n",
              "\n",
              "[1 rows x 9 columns]"
            ]
          },
          "metadata": {},
          "execution_count": 96
        }
      ]
    },
    {
      "cell_type": "code",
      "metadata": {
        "id": "StRN3Zdqj8Vf"
      },
      "source": [
        "df1.to_sql('employees',engine, if_exists='append', index=False) #create a whole new table"
      ],
      "execution_count": 97,
      "outputs": []
    },
    {
      "cell_type": "code",
      "metadata": {
        "id": "CMGTy5M2lDrL"
      },
      "source": [
        "!pip install yfinance &> /dev/null"
      ],
      "execution_count": 98,
      "outputs": []
    },
    {
      "cell_type": "code",
      "metadata": {
        "id": "P7kF6AE4kEXD"
      },
      "source": [
        "import yfinance as yf"
      ],
      "execution_count": 99,
      "outputs": []
    },
    {
      "cell_type": "code",
      "metadata": {
        "colab": {
          "base_uri": "https://localhost:8080/"
        },
        "id": "EwNPTcMolCd7",
        "outputId": "058ef1d7-ed9d-4401-ad44-c914a2e21b4b"
      },
      "source": [
        "df = yf.download('AAPL', start = '2021-10-01')"
      ],
      "execution_count": 100,
      "outputs": [
        {
          "output_type": "stream",
          "name": "stdout",
          "text": [
            "\r[*********************100%***********************]  1 of 1 completed\n"
          ]
        }
      ]
    },
    {
      "cell_type": "code",
      "metadata": {
        "colab": {
          "base_uri": "https://localhost:8080/",
          "height": 425
        },
        "id": "x6OpI9RIlQrw",
        "outputId": "55ad5e01-4889-432e-b175-806336069ec0"
      },
      "source": [
        "df"
      ],
      "execution_count": 101,
      "outputs": [
        {
          "output_type": "execute_result",
          "data": {
            "text/html": [
              "<div>\n",
              "<style scoped>\n",
              "    .dataframe tbody tr th:only-of-type {\n",
              "        vertical-align: middle;\n",
              "    }\n",
              "\n",
              "    .dataframe tbody tr th {\n",
              "        vertical-align: top;\n",
              "    }\n",
              "\n",
              "    .dataframe thead th {\n",
              "        text-align: right;\n",
              "    }\n",
              "</style>\n",
              "<table border=\"1\" class=\"dataframe\">\n",
              "  <thead>\n",
              "    <tr style=\"text-align: right;\">\n",
              "      <th></th>\n",
              "      <th>Open</th>\n",
              "      <th>High</th>\n",
              "      <th>Low</th>\n",
              "      <th>Close</th>\n",
              "      <th>Adj Close</th>\n",
              "      <th>Volume</th>\n",
              "    </tr>\n",
              "    <tr>\n",
              "      <th>Date</th>\n",
              "      <th></th>\n",
              "      <th></th>\n",
              "      <th></th>\n",
              "      <th></th>\n",
              "      <th></th>\n",
              "      <th></th>\n",
              "    </tr>\n",
              "  </thead>\n",
              "  <tbody>\n",
              "    <tr>\n",
              "      <th>2021-10-01</th>\n",
              "      <td>141.899994</td>\n",
              "      <td>142.919998</td>\n",
              "      <td>139.110001</td>\n",
              "      <td>142.649994</td>\n",
              "      <td>142.649994</td>\n",
              "      <td>94639600</td>\n",
              "    </tr>\n",
              "    <tr>\n",
              "      <th>2021-10-04</th>\n",
              "      <td>141.759995</td>\n",
              "      <td>142.210007</td>\n",
              "      <td>138.270004</td>\n",
              "      <td>139.139999</td>\n",
              "      <td>139.139999</td>\n",
              "      <td>98322000</td>\n",
              "    </tr>\n",
              "    <tr>\n",
              "      <th>2021-10-05</th>\n",
              "      <td>139.490005</td>\n",
              "      <td>142.240005</td>\n",
              "      <td>139.360001</td>\n",
              "      <td>141.110001</td>\n",
              "      <td>141.110001</td>\n",
              "      <td>80861100</td>\n",
              "    </tr>\n",
              "    <tr>\n",
              "      <th>2021-10-06</th>\n",
              "      <td>139.470001</td>\n",
              "      <td>142.149994</td>\n",
              "      <td>138.369995</td>\n",
              "      <td>142.000000</td>\n",
              "      <td>142.000000</td>\n",
              "      <td>83221100</td>\n",
              "    </tr>\n",
              "    <tr>\n",
              "      <th>2021-10-07</th>\n",
              "      <td>143.059998</td>\n",
              "      <td>144.220001</td>\n",
              "      <td>142.720001</td>\n",
              "      <td>143.289993</td>\n",
              "      <td>143.289993</td>\n",
              "      <td>61732700</td>\n",
              "    </tr>\n",
              "    <tr>\n",
              "      <th>2021-10-08</th>\n",
              "      <td>144.029999</td>\n",
              "      <td>144.179993</td>\n",
              "      <td>142.559998</td>\n",
              "      <td>142.899994</td>\n",
              "      <td>142.899994</td>\n",
              "      <td>58718700</td>\n",
              "    </tr>\n",
              "    <tr>\n",
              "      <th>2021-10-11</th>\n",
              "      <td>142.270004</td>\n",
              "      <td>144.809998</td>\n",
              "      <td>141.809998</td>\n",
              "      <td>142.809998</td>\n",
              "      <td>142.809998</td>\n",
              "      <td>64452200</td>\n",
              "    </tr>\n",
              "    <tr>\n",
              "      <th>2021-10-12</th>\n",
              "      <td>143.229996</td>\n",
              "      <td>143.250000</td>\n",
              "      <td>141.039993</td>\n",
              "      <td>141.509995</td>\n",
              "      <td>141.509995</td>\n",
              "      <td>73035900</td>\n",
              "    </tr>\n",
              "    <tr>\n",
              "      <th>2021-10-13</th>\n",
              "      <td>141.240005</td>\n",
              "      <td>141.399994</td>\n",
              "      <td>139.199997</td>\n",
              "      <td>140.910004</td>\n",
              "      <td>140.910004</td>\n",
              "      <td>78762700</td>\n",
              "    </tr>\n",
              "    <tr>\n",
              "      <th>2021-10-14</th>\n",
              "      <td>142.110001</td>\n",
              "      <td>143.880005</td>\n",
              "      <td>141.509995</td>\n",
              "      <td>143.759995</td>\n",
              "      <td>143.759995</td>\n",
              "      <td>69838600</td>\n",
              "    </tr>\n",
              "    <tr>\n",
              "      <th>2021-10-15</th>\n",
              "      <td>143.770004</td>\n",
              "      <td>144.895004</td>\n",
              "      <td>143.514999</td>\n",
              "      <td>144.839996</td>\n",
              "      <td>144.839996</td>\n",
              "      <td>65076405</td>\n",
              "    </tr>\n",
              "  </tbody>\n",
              "</table>\n",
              "</div>"
            ],
            "text/plain": [
              "                  Open        High  ...   Adj Close    Volume\n",
              "Date                                ...                      \n",
              "2021-10-01  141.899994  142.919998  ...  142.649994  94639600\n",
              "2021-10-04  141.759995  142.210007  ...  139.139999  98322000\n",
              "2021-10-05  139.490005  142.240005  ...  141.110001  80861100\n",
              "2021-10-06  139.470001  142.149994  ...  142.000000  83221100\n",
              "2021-10-07  143.059998  144.220001  ...  143.289993  61732700\n",
              "2021-10-08  144.029999  144.179993  ...  142.899994  58718700\n",
              "2021-10-11  142.270004  144.809998  ...  142.809998  64452200\n",
              "2021-10-12  143.229996  143.250000  ...  141.509995  73035900\n",
              "2021-10-13  141.240005  141.399994  ...  140.910004  78762700\n",
              "2021-10-14  142.110001  143.880005  ...  143.759995  69838600\n",
              "2021-10-15  143.770004  144.895004  ...  144.839996  65076405\n",
              "\n",
              "[11 rows x 6 columns]"
            ]
          },
          "metadata": {},
          "execution_count": 101
        }
      ]
    },
    {
      "cell_type": "code",
      "metadata": {
        "id": "k85K-bLblRhQ"
      },
      "source": [
        "df.to_sql('AAPL',engine)"
      ],
      "execution_count": 104,
      "outputs": []
    },
    {
      "cell_type": "code",
      "metadata": {
        "colab": {
          "base_uri": "https://localhost:8080/",
          "height": 394
        },
        "id": "sjpD6cmqlYWc",
        "outputId": "d5c618e8-53a7-4237-99b8-32e4026082d9"
      },
      "source": [
        "pd.read_sql('AAPL', engine)"
      ],
      "execution_count": 105,
      "outputs": [
        {
          "output_type": "execute_result",
          "data": {
            "text/html": [
              "<div>\n",
              "<style scoped>\n",
              "    .dataframe tbody tr th:only-of-type {\n",
              "        vertical-align: middle;\n",
              "    }\n",
              "\n",
              "    .dataframe tbody tr th {\n",
              "        vertical-align: top;\n",
              "    }\n",
              "\n",
              "    .dataframe thead th {\n",
              "        text-align: right;\n",
              "    }\n",
              "</style>\n",
              "<table border=\"1\" class=\"dataframe\">\n",
              "  <thead>\n",
              "    <tr style=\"text-align: right;\">\n",
              "      <th></th>\n",
              "      <th>Date</th>\n",
              "      <th>Open</th>\n",
              "      <th>High</th>\n",
              "      <th>Low</th>\n",
              "      <th>Close</th>\n",
              "      <th>Adj Close</th>\n",
              "      <th>Volume</th>\n",
              "    </tr>\n",
              "  </thead>\n",
              "  <tbody>\n",
              "    <tr>\n",
              "      <th>0</th>\n",
              "      <td>2021-10-01</td>\n",
              "      <td>141.899994</td>\n",
              "      <td>142.919998</td>\n",
              "      <td>139.110001</td>\n",
              "      <td>142.649994</td>\n",
              "      <td>142.649994</td>\n",
              "      <td>94639600</td>\n",
              "    </tr>\n",
              "    <tr>\n",
              "      <th>1</th>\n",
              "      <td>2021-10-04</td>\n",
              "      <td>141.759995</td>\n",
              "      <td>142.210007</td>\n",
              "      <td>138.270004</td>\n",
              "      <td>139.139999</td>\n",
              "      <td>139.139999</td>\n",
              "      <td>98322000</td>\n",
              "    </tr>\n",
              "    <tr>\n",
              "      <th>2</th>\n",
              "      <td>2021-10-05</td>\n",
              "      <td>139.490005</td>\n",
              "      <td>142.240005</td>\n",
              "      <td>139.360001</td>\n",
              "      <td>141.110001</td>\n",
              "      <td>141.110001</td>\n",
              "      <td>80861100</td>\n",
              "    </tr>\n",
              "    <tr>\n",
              "      <th>3</th>\n",
              "      <td>2021-10-06</td>\n",
              "      <td>139.470001</td>\n",
              "      <td>142.149994</td>\n",
              "      <td>138.369995</td>\n",
              "      <td>142.000000</td>\n",
              "      <td>142.000000</td>\n",
              "      <td>83221100</td>\n",
              "    </tr>\n",
              "    <tr>\n",
              "      <th>4</th>\n",
              "      <td>2021-10-07</td>\n",
              "      <td>143.059998</td>\n",
              "      <td>144.220001</td>\n",
              "      <td>142.720001</td>\n",
              "      <td>143.289993</td>\n",
              "      <td>143.289993</td>\n",
              "      <td>61732700</td>\n",
              "    </tr>\n",
              "    <tr>\n",
              "      <th>5</th>\n",
              "      <td>2021-10-08</td>\n",
              "      <td>144.029999</td>\n",
              "      <td>144.179993</td>\n",
              "      <td>142.559998</td>\n",
              "      <td>142.899994</td>\n",
              "      <td>142.899994</td>\n",
              "      <td>58718700</td>\n",
              "    </tr>\n",
              "    <tr>\n",
              "      <th>6</th>\n",
              "      <td>2021-10-11</td>\n",
              "      <td>142.270004</td>\n",
              "      <td>144.809998</td>\n",
              "      <td>141.809998</td>\n",
              "      <td>142.809998</td>\n",
              "      <td>142.809998</td>\n",
              "      <td>64452200</td>\n",
              "    </tr>\n",
              "    <tr>\n",
              "      <th>7</th>\n",
              "      <td>2021-10-12</td>\n",
              "      <td>143.229996</td>\n",
              "      <td>143.250000</td>\n",
              "      <td>141.039993</td>\n",
              "      <td>141.509995</td>\n",
              "      <td>141.509995</td>\n",
              "      <td>73035900</td>\n",
              "    </tr>\n",
              "    <tr>\n",
              "      <th>8</th>\n",
              "      <td>2021-10-13</td>\n",
              "      <td>141.240005</td>\n",
              "      <td>141.399994</td>\n",
              "      <td>139.199997</td>\n",
              "      <td>140.910004</td>\n",
              "      <td>140.910004</td>\n",
              "      <td>78762700</td>\n",
              "    </tr>\n",
              "    <tr>\n",
              "      <th>9</th>\n",
              "      <td>2021-10-14</td>\n",
              "      <td>142.110001</td>\n",
              "      <td>143.880005</td>\n",
              "      <td>141.509995</td>\n",
              "      <td>143.759995</td>\n",
              "      <td>143.759995</td>\n",
              "      <td>69838600</td>\n",
              "    </tr>\n",
              "    <tr>\n",
              "      <th>10</th>\n",
              "      <td>2021-10-15</td>\n",
              "      <td>143.770004</td>\n",
              "      <td>144.895004</td>\n",
              "      <td>143.514999</td>\n",
              "      <td>144.839996</td>\n",
              "      <td>144.839996</td>\n",
              "      <td>65076405</td>\n",
              "    </tr>\n",
              "  </tbody>\n",
              "</table>\n",
              "</div>"
            ],
            "text/plain": [
              "         Date        Open        High  ...       Close   Adj Close    Volume\n",
              "0  2021-10-01  141.899994  142.919998  ...  142.649994  142.649994  94639600\n",
              "1  2021-10-04  141.759995  142.210007  ...  139.139999  139.139999  98322000\n",
              "2  2021-10-05  139.490005  142.240005  ...  141.110001  141.110001  80861100\n",
              "3  2021-10-06  139.470001  142.149994  ...  142.000000  142.000000  83221100\n",
              "4  2021-10-07  143.059998  144.220001  ...  143.289993  143.289993  61732700\n",
              "5  2021-10-08  144.029999  144.179993  ...  142.899994  142.899994  58718700\n",
              "6  2021-10-11  142.270004  144.809998  ...  142.809998  142.809998  64452200\n",
              "7  2021-10-12  143.229996  143.250000  ...  141.509995  141.509995  73035900\n",
              "8  2021-10-13  141.240005  141.399994  ...  140.910004  140.910004  78762700\n",
              "9  2021-10-14  142.110001  143.880005  ...  143.759995  143.759995  69838600\n",
              "10 2021-10-15  143.770004  144.895004  ...  144.839996  144.839996  65076405\n",
              "\n",
              "[11 rows x 7 columns]"
            ]
          },
          "metadata": {},
          "execution_count": 105
        }
      ]
    }
  ]
}